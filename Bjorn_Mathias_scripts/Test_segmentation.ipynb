{
 "cells": [
  {
   "cell_type": "code",
   "execution_count": 1,
   "metadata": {},
   "outputs": [],
   "source": [
    "import numpy as np\n",
    "import torch\n",
    "import torch.nn as nn\n",
    "from torch.nn import init\n",
    "import functools\n",
    "from torch.optim import lr_scheduler\n",
    "import torch.nn.functional as F\n",
    "import time\n",
    "from options.test_options import TestOptions, Opt_test\n",
    "from data import DataLoader\n",
    "from models import create_model\n",
    "from util.writer import Writer\n",
    "from test import run_test\n",
    "from util.mesh_viewer import *\n"
   ]
  },
  {
   "cell_type": "code",
   "execution_count": 2,
   "metadata": {},
   "outputs": [
    {
     "name": "stdout",
     "output_type": "stream",
     "text": [
      "loaded mean / std from cache\n",
      "#test meshes = 18\n",
      "loading the model from ./checkpoints\\human_seg\\latest_net.pth\n"
     ]
    }
   ],
   "source": [
    "opt = Opt_test()\n",
    "opt.parse()\n",
    "# These options must match the options for training!\n",
    "opt.dataroot = 'datasets/human_seg' \n",
    "opt.name = 'human_seg'\n",
    "opt.arch = 'meshunet'\n",
    "opt.dataset_mode  = 'segmentation'\n",
    "opt.ncf = [32, 64, 128, 256] \n",
    "opt.pool_res = [1800, 1350, 600]\n",
    "opt.ninput_edges = 2280\n",
    "opt.norm = 'batch'\n",
    "opt.resblocks = 3 \n",
    "opt.batch_size = 12\n",
    "opt.export_folder = 'humseg_test'\n",
    "\n",
    "dataset = DataLoader(opt)\n",
    "dataset_size = len(dataset)\n",
    "print('#test meshes = %d' % dataset_size)\n",
    "model = create_model(opt)\n",
    "writer = Writer(opt)\n",
    "\n",
    "def test_all(opt, dataset, model, writer, epoch=-1):\n",
    "    print('Running Test')\n",
    "    #opt = TestOptions().parse()\n",
    "    opt.serial_batches = True  # no shuffle\n",
    "    #dataset = DataLoader(opt)\n",
    "    #model = create_model(opt)\n",
    "    \n",
    "    # test\n",
    "    writer.reset_counter()\n",
    "    for i, data in enumerate(dataset):\n",
    "        model.set_input(data)\n",
    "        ncorrect, nexamples = model.test()\n",
    "        writer.update_counter(ncorrect, nexamples)\n",
    "    writer.print_acc(epoch, writer.acc)\n",
    "    return writer.acc\n",
    "\n",
    "def test_random(opt, dataset, model):\n",
    "    num_obj = np.random.randint(len(dataset))\n",
    "    opt.serial_batches = True \n",
    "    for i, data in enumerate(dataset):\n",
    "            if i == num_obj//16:\n",
    "                idx = num_obj - num_obj//16*16\n",
    "                model.set_input(data)\n",
    "                out = model.forward()\n",
    "                pred_class = out.data.max(1)[1]\n",
    "                #ncorrect, nexamples = model.test()\n",
    "                print('Correct class: %s' % dataset.dataset.classes[data['label'][idx]])\n",
    "                print('Predicted class: %s' % dataset.dataset.classes[pred_class[idx]])\n",
    "        \n",
    "                obj_name = dataset.dataset.paths[num_obj][0]\n",
    "                print('see object file %s for visualization' % obj_name.split('\\\\')[-1])\n",
    "            "
   ]
  },
  {
   "cell_type": "code",
   "execution_count": 3,
   "metadata": {},
   "outputs": [
    {
     "name": "stdout",
     "output_type": "stream",
     "text": [
      "Running Test\n",
      "epoch: -1, TEST ACC: [92.385 %]\n",
      "\n"
     ]
    },
    {
     "data": {
      "text/plain": [
       "0.9238476223415799"
      ]
     },
     "execution_count": 3,
     "metadata": {},
     "output_type": "execute_result"
    }
   ],
   "source": [
    " test_all(opt, dataset, model, writer, epoch=-1)"
   ]
  },
  {
   "cell_type": "code",
   "execution_count": 4,
   "metadata": {},
   "outputs": [
    {
     "ename": "IndexError",
     "evalue": "arrays used as indices must be of integer (or boolean) type",
     "output_type": "error",
     "traceback": [
      "\u001b[1;31m---------------------------------------------------------------------------\u001b[0m",
      "\u001b[1;31mIndexError\u001b[0m                                Traceback (most recent call last)",
      "\u001b[1;32m<ipython-input-4-61a3bb26d634>\u001b[0m in \u001b[0;36m<module>\u001b[1;34m\u001b[0m\n\u001b[1;32m----> 1\u001b[1;33m \u001b[0mtest_random\u001b[0m\u001b[1;33m(\u001b[0m\u001b[0mopt\u001b[0m\u001b[1;33m,\u001b[0m \u001b[0mdataset\u001b[0m\u001b[1;33m,\u001b[0m \u001b[0mmodel\u001b[0m\u001b[1;33m)\u001b[0m\u001b[1;33m\u001b[0m\u001b[1;33m\u001b[0m\u001b[0m\n\u001b[0m",
      "\u001b[1;32m<ipython-input-2-8d762fdf5a59>\u001b[0m in \u001b[0;36mtest_random\u001b[1;34m(opt, dataset, model)\u001b[0m\n\u001b[0;32m     46\u001b[0m                 \u001b[0mpred_class\u001b[0m \u001b[1;33m=\u001b[0m \u001b[0mout\u001b[0m\u001b[1;33m.\u001b[0m\u001b[0mdata\u001b[0m\u001b[1;33m.\u001b[0m\u001b[0mmax\u001b[0m\u001b[1;33m(\u001b[0m\u001b[1;36m1\u001b[0m\u001b[1;33m)\u001b[0m\u001b[1;33m[\u001b[0m\u001b[1;36m1\u001b[0m\u001b[1;33m]\u001b[0m\u001b[1;33m\u001b[0m\u001b[1;33m\u001b[0m\u001b[0m\n\u001b[0;32m     47\u001b[0m                 \u001b[1;31m#ncorrect, nexamples = model.test()\u001b[0m\u001b[1;33m\u001b[0m\u001b[1;33m\u001b[0m\u001b[1;33m\u001b[0m\u001b[0m\n\u001b[1;32m---> 48\u001b[1;33m                 \u001b[0mprint\u001b[0m\u001b[1;33m(\u001b[0m\u001b[1;34m'Correct class: %s'\u001b[0m \u001b[1;33m%\u001b[0m \u001b[0mdataset\u001b[0m\u001b[1;33m.\u001b[0m\u001b[0mdataset\u001b[0m\u001b[1;33m.\u001b[0m\u001b[0mclasses\u001b[0m\u001b[1;33m[\u001b[0m\u001b[0mdata\u001b[0m\u001b[1;33m[\u001b[0m\u001b[1;34m'label'\u001b[0m\u001b[1;33m]\u001b[0m\u001b[1;33m[\u001b[0m\u001b[0midx\u001b[0m\u001b[1;33m]\u001b[0m\u001b[1;33m]\u001b[0m\u001b[1;33m)\u001b[0m\u001b[1;33m\u001b[0m\u001b[1;33m\u001b[0m\u001b[0m\n\u001b[0m\u001b[0;32m     49\u001b[0m                 \u001b[0mprint\u001b[0m\u001b[1;33m(\u001b[0m\u001b[1;34m'Predicted class: %s'\u001b[0m \u001b[1;33m%\u001b[0m \u001b[0mdataset\u001b[0m\u001b[1;33m.\u001b[0m\u001b[0mdataset\u001b[0m\u001b[1;33m.\u001b[0m\u001b[0mclasses\u001b[0m\u001b[1;33m[\u001b[0m\u001b[0mpred_class\u001b[0m\u001b[1;33m[\u001b[0m\u001b[0midx\u001b[0m\u001b[1;33m]\u001b[0m\u001b[1;33m]\u001b[0m\u001b[1;33m)\u001b[0m\u001b[1;33m\u001b[0m\u001b[1;33m\u001b[0m\u001b[0m\n\u001b[0;32m     50\u001b[0m \u001b[1;33m\u001b[0m\u001b[0m\n",
      "\u001b[1;31mIndexError\u001b[0m: arrays used as indices must be of integer (or boolean) type"
     ]
    }
   ],
   "source": [
    "test_random(opt, dataset, model)"
   ]
  },
  {
   "cell_type": "code",
   "execution_count": 5,
   "metadata": {},
   "outputs": [
    {
     "name": "stdout",
     "output_type": "stream",
     "text": [
      "(12, 2280, 8)\n",
      "(12, 2280)\n",
      "[[334 456]\n",
      " [  2 456]\n",
      " [  2 334]\n",
      " ...\n",
      " [ 98 744]\n",
      " [ 79 744]\n",
      " [ 79 600]]\n"
     ]
    },
    {
     "ename": "IndexError",
     "evalue": "arrays used as indices must be of integer (or boolean) type",
     "output_type": "error",
     "traceback": [
      "\u001b[1;31m---------------------------------------------------------------------------\u001b[0m",
      "\u001b[1;31mIndexError\u001b[0m                                Traceback (most recent call last)",
      "\u001b[1;32m<ipython-input-5-9e864bb55b5b>\u001b[0m in \u001b[0;36m<module>\u001b[1;34m\u001b[0m\n\u001b[0;32m     11\u001b[0m         \u001b[0mprint\u001b[0m\u001b[1;33m(\u001b[0m\u001b[0mdata\u001b[0m\u001b[1;33m[\u001b[0m\u001b[1;34m'label'\u001b[0m\u001b[1;33m]\u001b[0m\u001b[1;33m.\u001b[0m\u001b[0mshape\u001b[0m\u001b[1;33m)\u001b[0m\u001b[1;33m\u001b[0m\u001b[1;33m\u001b[0m\u001b[0m\n\u001b[0;32m     12\u001b[0m         \u001b[0mprint\u001b[0m\u001b[1;33m(\u001b[0m\u001b[0mdata\u001b[0m\u001b[1;33m[\u001b[0m\u001b[1;34m'mesh'\u001b[0m\u001b[1;33m]\u001b[0m\u001b[1;33m[\u001b[0m\u001b[1;36m0\u001b[0m\u001b[1;33m]\u001b[0m\u001b[1;33m.\u001b[0m\u001b[0medges\u001b[0m\u001b[1;33m)\u001b[0m\u001b[1;33m\u001b[0m\u001b[1;33m\u001b[0m\u001b[0m\n\u001b[1;32m---> 13\u001b[1;33m         \u001b[0mprint\u001b[0m\u001b[1;33m(\u001b[0m\u001b[1;34m'Correct class: %s'\u001b[0m \u001b[1;33m%\u001b[0m \u001b[0mdataset\u001b[0m\u001b[1;33m.\u001b[0m\u001b[0mdataset\u001b[0m\u001b[1;33m.\u001b[0m\u001b[0mclasses\u001b[0m\u001b[1;33m[\u001b[0m\u001b[0mdata\u001b[0m\u001b[1;33m[\u001b[0m\u001b[1;34m'label'\u001b[0m\u001b[1;33m]\u001b[0m\u001b[1;33m[\u001b[0m\u001b[0midx\u001b[0m\u001b[1;33m]\u001b[0m\u001b[1;33m]\u001b[0m\u001b[1;33m)\u001b[0m\u001b[1;33m\u001b[0m\u001b[1;33m\u001b[0m\u001b[0m\n\u001b[0m\u001b[0;32m     14\u001b[0m         \u001b[0mprint\u001b[0m\u001b[1;33m(\u001b[0m\u001b[1;34m'Predicted class: %s'\u001b[0m \u001b[1;33m%\u001b[0m \u001b[0mdataset\u001b[0m\u001b[1;33m.\u001b[0m\u001b[0mdataset\u001b[0m\u001b[1;33m.\u001b[0m\u001b[0mclasses\u001b[0m\u001b[1;33m[\u001b[0m\u001b[0mpred_class\u001b[0m\u001b[1;33m[\u001b[0m\u001b[0midx\u001b[0m\u001b[1;33m]\u001b[0m\u001b[1;33m]\u001b[0m\u001b[1;33m)\u001b[0m\u001b[1;33m\u001b[0m\u001b[1;33m\u001b[0m\u001b[0m\n\u001b[0;32m     15\u001b[0m \u001b[1;33m\u001b[0m\u001b[0m\n",
      "\u001b[1;31mIndexError\u001b[0m: arrays used as indices must be of integer (or boolean) type"
     ]
    }
   ],
   "source": [
    "num_obj = np.random.randint(len(dataset))\n",
    "opt.serial_batches = True \n",
    "for i, data in enumerate(dataset):\n",
    "        #if i == num_obj//opt.batch_size:\n",
    "        idx = num_obj - num_obj//opt.batch_size*opt.batch_size\n",
    "        model.set_input(data)\n",
    "        out = model.forward()\n",
    "        pred_class = out.data.max(1)[1]\n",
    "        #ncorrect, nexamples = model.test()\n",
    "        print(data['soft_label'].shape)\n",
    "        print(data['label'].shape)\n",
    "        print(data['mesh'][0].edges)\n",
    "        print('Correct class: %s' % dataset.dataset.classes[data['label'][idx]])\n",
    "        print('Predicted class: %s' % dataset.dataset.classes[pred_class[idx]])\n",
    "\n",
    "        obj_name = dataset.dataset.paths[num_obj][0]\n",
    "        print('see object file %s for visualization' % obj_name.split('\\\\')[-1])"
   ]
  },
  {
   "cell_type": "code",
   "execution_count": 6,
   "metadata": {},
   "outputs": [
    {
     "name": "stdout",
     "output_type": "stream",
     "text": [
      "(2280, 8)\n",
      "(2280,)\n",
      "2250\n",
      "(2250, 4)\n",
      "see object file shrec__1.obj for visualization\n"
     ]
    }
   ],
   "source": [
    "print(data['soft_label'][0].shape)\n",
    "print(data['label'][0].shape)\n",
    "print(data['mesh'][0].edges_count)\n",
    "print(data['mesh'][0].gemm_edges.shape)\n",
    "obj_name = dataset.dataset.paths[i]\n",
    "print('see object file %s for visualization' % obj_name.split('\\\\')[-1])"
   ]
  },
  {
   "cell_type": "code",
   "execution_count": 8,
   "metadata": {},
   "outputs": [
    {
     "data": {
      "text/plain": [
       "(600, 2)"
      ]
     },
     "execution_count": 8,
     "metadata": {},
     "output_type": "execute_result"
    }
   ],
   "source": [
    "data['mesh'][0].edges.shape"
   ]
  },
  {
   "cell_type": "code",
   "execution_count": null,
   "metadata": {},
   "outputs": [],
   "source": []
  }
 ],
 "metadata": {
  "kernelspec": {
   "display_name": "Python 3",
   "language": "python",
   "name": "python3"
  },
  "language_info": {
   "codemirror_mode": {
    "name": "ipython",
    "version": 3
   },
   "file_extension": ".py",
   "mimetype": "text/x-python",
   "name": "python",
   "nbconvert_exporter": "python",
   "pygments_lexer": "ipython3",
   "version": "3.8.5"
  }
 },
 "nbformat": 4,
 "nbformat_minor": 4
}
